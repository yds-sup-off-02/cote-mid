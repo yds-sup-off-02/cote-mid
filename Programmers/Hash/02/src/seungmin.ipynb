{
  "nbformat": 4,
  "nbformat_minor": 0,
  "metadata": {
    "colab": {
      "name": "Untitled1.ipynb",
      "provenance": []
    },
    "kernelspec": {
      "name": "python3",
      "display_name": "Python 3"
    },
    "language_info": {
      "name": "python"
    }
  },
  "cells": [
    {
      "cell_type": "code",
      "execution_count": null,
      "metadata": {
        "id": "Dt14ApSQlmcQ"
      },
      "outputs": [],
      "source": [
        "def solution(phone_book):\n",
        "    phone_book.sort()\n",
        "\n",
        "    for item in phone_book :  \n",
        "        k = phone_book.index(item) + 1\n",
        "        dict_list =  {}\n",
        "        num = len(item)\n",
        "        \n",
        "        for i in phone_book[k:] :\n",
        "            dict_list[i[:num]] = 1\n",
        "        \n",
        "        if item in dict_list:\n",
        "            answer = False\n",
        "            return answer\n",
        "        else:\n",
        "            pass\n",
        "    answer = True\n",
        "    return answer"
      ]
    }
  ]
}