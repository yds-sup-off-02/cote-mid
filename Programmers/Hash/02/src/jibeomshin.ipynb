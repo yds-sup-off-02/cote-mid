{
  "nbformat": 4,
  "nbformat_minor": 0,
  "metadata": {
    "colab": {
      "name": "Untitled4.ipynb",
      "provenance": []
    },
    "kernelspec": {
      "name": "python3",
      "display_name": "Python 3"
    },
    "language_info": {
      "name": "python"
    }
  },
  "cells": [
    {
      "cell_type": "code",
      "execution_count": 2,
      "metadata": {
        "id": "pPEJlJCQDJyp"
      },
      "outputs": [],
      "source": [
        "def solution(phone_book):\n",
        "    #전화번호를 소팅한다\n",
        "    phone_book.sort()\n",
        "    #소팅한 전화번호는 2개씩 확인해서 접두어인지 본다\n",
        "    for i in range(len(phone_book)-1):\n",
        "        if phone_book[i+1].startswith(phone_book[i]):\n",
        "            return False\n",
        "    #i+1 즉 뒤에있는 번호(i)가 앞에있는 번호와 접두어인지를 확인하는 if문  \n",
        "    return True"
      ]
    },
    {
      "cell_type": "code",
      "source": [
        ""
      ],
      "metadata": {
        "id": "m9TL7JwRDLDS"
      },
      "execution_count": null,
      "outputs": []
    }
  ]
}