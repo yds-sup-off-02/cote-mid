{
  "nbformat": 4,
  "nbformat_minor": 0,
  "metadata": {
    "colab": {
      "name": "seungmin_hash_2.ipynb",
      "provenance": [],
      "collapsed_sections": []
    },
    "kernelspec": {
      "name": "python3",
      "display_name": "Python 3"
    },
    "language_info": {
      "name": "python"
    }
  },
  "cells": [
    {
      "cell_type": "code",
      "execution_count": null,
      "metadata": {
        "id": "Dt14ApSQlmcQ"
      },
      "outputs": [],
      "source": [
        "def solution(phone_book):\n",
        "    for k in phone_book:\n",
        "        temp_list = []\n",
        "        temp_list = [item[:len(k)] for item in phone_book[phone_book.index(k)+1:]]\n",
        "        temp_list_len = list(range(len(temp_list)-1))\n",
        "        temp_dict_list = dict(zip(temp_list[1:], temp_list_len))\n",
        "        if k in temp_dict_list :\n",
        "            answer = False\n",
        "            return answer\n",
        "        else :\n",
        "            pass\n",
        "    answer = True    \n",
        "    return answer"
      ]
    }
  ]
}