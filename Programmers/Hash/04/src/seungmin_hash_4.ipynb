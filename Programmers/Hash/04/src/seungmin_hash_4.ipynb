{
  "nbformat": 4,
  "nbformat_minor": 0,
  "metadata": {
    "colab": {
      "name": "seungmin_hash_4.ipynb",
      "provenance": [],
      "collapsed_sections": []
    },
    "kernelspec": {
      "name": "python3",
      "display_name": "Python 3"
    },
    "language_info": {
      "name": "python"
    }
  },
  "cells": [
    {
      "cell_type": "code",
      "execution_count": null,
      "metadata": {
        "id": "N35PdqmHQ8R4"
      },
      "outputs": [],
      "source": [
        "def solution(genres, plays):\n",
        "    answer = []\n",
        "    dict_list = {}\n",
        "    dict_list2 = {}\n",
        "    \n",
        "    def sum_func():\n",
        "        if item in dict_list:\n",
        "            dict_list[item] += plays[i]\n",
        "        else:\n",
        "            dict_list[item] = plays[i]\n",
        "        return dict_list\n",
        "\n",
        "    def index_func():\n",
        "        if item in dict_list2:\n",
        "            if len(dict_list2[item]) == 2:\n",
        "                if plays[dict_list2[item][1]] < plays[i]:\n",
        "                    del dict_list2[item][1]\n",
        "                    if plays[dict_list2[item][0]] < plays[i]:\n",
        "                        dict_list2[item].insert(0, i)\n",
        "                    else:\n",
        "                        dict_list2[item].append(i)\n",
        "                else:\n",
        "                    pass\n",
        "            else:\n",
        "                if plays[dict_list2[item][0]] < plays[i]:\n",
        "                    dict_list2[item].insert(0, i)\n",
        "                else:\n",
        "                    dict_list2[item].append(i)\n",
        "        else:\n",
        "            dict_list2[item] = [i]\n",
        "        return dict_list2\n",
        "    \n",
        "    for i, item in enumerate(genres):\n",
        "        sum_func()\n",
        "        index_func()\n",
        "\n",
        "    dict_list = sorted(dict_list.items(), reverse=True, key=lambda item:item[1])\n",
        "\n",
        "    for i in range(len(dict_list)):\n",
        "        answer += dict_list2[dict_list[i][0]]\n",
        "    \n",
        "    return answer"
      ]
    }
  ]
}