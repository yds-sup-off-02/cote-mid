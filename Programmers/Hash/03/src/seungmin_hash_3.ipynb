{
  "nbformat": 4,
  "nbformat_minor": 0,
  "metadata": {
    "colab": {
      "name": "seungmin_hash_3.ipynb",
      "provenance": [],
      "collapsed_sections": []
    },
    "kernelspec": {
      "name": "python3",
      "display_name": "Python 3"
    },
    "language_info": {
      "name": "python"
    }
  },
  "cells": [
    {
      "cell_type": "code",
      "execution_count": null,
      "metadata": {
        "id": "Dt14ApSQlmcQ"
      },
      "outputs": [],
      "source": [
        "def solution(clothes):\n",
        "    answer = 1\n",
        "    temp_dict = dict(clothes)\n",
        "    dict_list = {}\n",
        "    \n",
        "    for i in temp_dict:\n",
        "        if temp_dict[i] in dict_list :\n",
        "            dict_list[temp_dict[i]] += 1\n",
        "        else :\n",
        "            dict_list[temp_dict[i]] = 1\n",
        "\n",
        "    temp_list = list(dict_list.values())\n",
        "    for i in temp_list:\n",
        "        answer = answer * (i + 1)\n",
        "    answer = answer - 1\n",
        "    \n",
        "    return answer"
      ]
    }
  ]
}