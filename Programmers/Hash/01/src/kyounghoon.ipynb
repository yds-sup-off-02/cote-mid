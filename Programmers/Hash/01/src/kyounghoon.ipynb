{
 "cells": [
  {
   "cell_type": "code",
   "execution_count": 257,
   "id": "0befda28-4668-43b5-97af-532a090da846",
   "metadata": {},
   "outputs": [],
   "source": [
    "from collections import Counter # Dictionary의 Key별 중복값 갯수 확인\n",
    "\n",
    "def solution(participant, completion):\n",
    "    \n",
    "    answer = set(participant) - set(completion) # Set함수를 사용해서 중복값 없애고 차집합 적용\n",
    "    answer = list(answer)\n",
    "    dict_participant = dict(Counter(participant))\n",
    "    dict_completion = dict(Counter(completion))\n",
    "    \n",
    "    if len(answer) == 0: # 차집한 결과가 0일 경우\n",
    "        for item, count in dict_participant.items():\n",
    "            \n",
    "            if (count - dict_completion[item]) > 0:            \n",
    "            # if (item in completion) and (count - dict_completion[item]) > 0:\n",
    "                answer.append(item)\n",
    "        \n",
    "        if len(answer):\n",
    "            return answer.pop()\n",
    "        else:\n",
    "            print(\"Pop from empty list.\")\n",
    "\n",
    "    if len(answer):\n",
    "        return answer.pop()\n",
    "    else:\n",
    "        print(\"Pop from empty list.\")"
   ]
  },
  {
   "cell_type": "code",
   "execution_count": null,
   "id": "79fefc15-94ab-4fae-98e8-8d2284001b35",
   "metadata": {},
   "outputs": [],
   "source": []
  }
 ],
 "metadata": {
  "kernelspec": {
   "display_name": "Python 3 (ipykernel)",
   "language": "python",
   "name": "python3"
  },
  "language_info": {
   "codemirror_mode": {
    "name": "ipython",
    "version": 3
   },
   "file_extension": ".py",
   "mimetype": "text/x-python",
   "name": "python",
   "nbconvert_exporter": "python",
   "pygments_lexer": "ipython3",
   "version": "3.8.13"
  }
 },
 "nbformat": 4,
 "nbformat_minor": 5
}
