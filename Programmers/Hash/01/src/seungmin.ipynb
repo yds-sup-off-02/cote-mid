{
  "nbformat": 4,
  "nbformat_minor": 0,
  "metadata": {
    "colab": {
      "name": "해시1.ipynb",
      "provenance": [],
      "collapsed_sections": []
    },
    "kernelspec": {
      "name": "python3",
      "display_name": "Python 3"
    },
    "language_info": {
      "name": "python"
    }
  },
  "cells": [
    {
      "cell_type": "markdown",
      "source": [
        "#완주하지 못한 선수\n",
        "\n",
        "문제 설명\n",
        "수많은 마라톤 선수들이 마라톤에 참여하였습니다. 단 한 명의 선수를 제외하고는 모든 선수가 마라톤을 완주하였습니다.\n",
        "\n",
        "마라톤에 참여한 선수들의 이름이 담긴 배열 participant와 완주한 선수들의 이름이 담긴 배열 completion이 주어질 때, 완주하지 못한 선수의 이름을 return 하도록 solution 함수를 작성해주세요.\n",
        "\n",
        "제한사항\n",
        "마라톤 경기에 참여한 선수의 수는 1명 이상 100,000명 이하입니다.\n",
        "completion의 길이는 participant의 길이보다 1 작습니다.\n",
        "참가자의 이름은 1개 이상 20개 이하의 알파벳 소문자로 이루어져 있습니다.\n",
        "참가자 중에는 동명이인이 있을 수 있습니다."
      ],
      "metadata": {
        "id": "zAoSXvK7cjUb"
      }
    },
    {
      "cell_type": "code",
      "execution_count": null,
      "metadata": {
        "id": "_saDTFu4ceLw"
      },
      "outputs": [],
      "source": [
        "# 입출력 예시\n",
        "#[\"leo\", \"kiki\", \"eden\"]\t[\"eden\", \"kiki\"]\t\"leo\"\n",
        "#[\"marina\", \"josipa\", \"nikola\", \"vinko\", \"filipa\"]\t[\"josipa\", \"filipa\", \"marina\", \"nikola\"]\t\"vinko\"\n",
        "#[\"mislav\", \"stanko\", \"mislav\", \"ana\"]\t[\"stanko\", \"ana\", \"mislav\"]\t\"mislav\""
      ]
    },
    {
      "cell_type": "code",
      "source": [
        "  participant = [\"marina\", \"josipa\", \"nikola\", \"vinko\", \"filipa\"]\n",
        "  completion = [\"josipa\", \"filipa\", \"marina\", \"nikola\"]\n",
        "  \n",
        "  answer = ''"
      ],
      "metadata": {
        "id": "fjnt2Ph_ewHr"
      },
      "execution_count": 18,
      "outputs": []
    },
    {
      "cell_type": "code",
      "source": [
        "%time \n",
        "\n",
        "dict_list = {}             # 마라톤에 참여한 선수들 딕셔너리 형태로 변환하기 위한 변수 선언\n",
        "\n",
        "for item in participant : \n",
        "\n",
        "    if item in dict_list : # 딕셔너리 안에 이미 선수가 있다면 value +1\n",
        "      dict_list[item] += 1 \n",
        "    \n",
        "    else :                 # 선수가 없다면 value 값 1\n",
        "      dict_list[item] = 1\n",
        "\n",
        "print(dict_list)"
      ],
      "metadata": {
        "colab": {
          "base_uri": "https://localhost:8080/"
        },
        "id": "BP188dPNfDAg",
        "outputId": "2c8a991b-9759-4dbd-df2e-dc7af4a8771e"
      },
      "execution_count": 41,
      "outputs": [
        {
          "output_type": "stream",
          "name": "stdout",
          "text": [
            "CPU times: user 5 µs, sys: 0 ns, total: 5 µs\n",
            "Wall time: 9.3 µs\n",
            "{'marina': 1, 'josipa': 1, 'nikola': 1, 'vinko': 1, 'filipa': 1}\n"
          ]
        }
      ]
    },
    {
      "cell_type": "code",
      "source": [
        "%time \n",
        "\n",
        "for item in completion :   # 완주한 선수의 이름이 딕셔너리 안에 있다면 value -1\n",
        "    dict_list[item] -= 1\n",
        "\n",
        "print(dict_list)           # 완주하지 못한 선수만 value 값 1"
      ],
      "metadata": {
        "colab": {
          "base_uri": "https://localhost:8080/"
        },
        "id": "pAk6Pdqaf67L",
        "outputId": "d20d634a-b570-4e42-a6d7-c28abec6de0f"
      },
      "execution_count": 22,
      "outputs": [
        {
          "output_type": "stream",
          "name": "stdout",
          "text": [
            "CPU times: user 3 µs, sys: 0 ns, total: 3 µs\n",
            "Wall time: 7.63 µs\n",
            "{'marina': 0, 'josipa': 0, 'nikola': 0, 'vinko': 1, 'filipa': 0}\n"
          ]
        }
      ]
    },
    {
      "cell_type": "code",
      "source": [
        "%time\n",
        "\n",
        "reverse_dict= dict(map(reversed, dict_list.items()))  # map 함수 사용을 위해 tuple 형태로 받은 후 key와 value값 전환\n",
        "answer = reverse_dict.get(1)                          # key 값이 1인 value 탐색\n",
        "\n",
        "print(answer)"
      ],
      "metadata": {
        "colab": {
          "base_uri": "https://localhost:8080/"
        },
        "id": "mKB6ey_kgVqr",
        "outputId": "542dc23a-ce8a-4956-ef54-5094e0d1fddb"
      },
      "execution_count": 42,
      "outputs": [
        {
          "output_type": "stream",
          "name": "stdout",
          "text": [
            "CPU times: user 4 µs, sys: 0 ns, total: 4 µs\n",
            "Wall time: 8.82 µs\n",
            "filipa\n"
          ]
        }
      ]
    },
    {
      "cell_type": "code",
      "source": [
        "def solution(participant, completion):\n",
        "  answer = ''\n",
        "  dict_list = {}\n",
        "\n",
        "  for item in participant :\n",
        "    if item in dict_list :\n",
        "      dict_list[item] += 1\n",
        "    \n",
        "    else :\n",
        "      dict_list[item] = 1\n",
        "    \n",
        "  for item in completion :\n",
        "    dict_list[item] -= 1\n",
        "\n",
        "  reverse_dict= dict(map(reversed, dict_list.items()))\n",
        "  answer = reverse_dict.get(1)\n",
        "    \n",
        "  return answer"
      ],
      "metadata": {
        "id": "ExUdBsFIdDrh"
      },
      "execution_count": 39,
      "outputs": []
    },
    {
      "cell_type": "code",
      "source": [
        "%time\n",
        "\n",
        "solution([\"mislav\", \"stanko\", \"mislav\", \"ana\"], [\"stanko\", \"ana\", \"mislav\"])"
      ],
      "metadata": {
        "colab": {
          "base_uri": "https://localhost:8080/",
          "height": 72
        },
        "id": "8eeQf_WedNAc",
        "outputId": "ec41eb31-f6f9-4160-80a8-6b362531c523"
      },
      "execution_count": 40,
      "outputs": [
        {
          "output_type": "stream",
          "name": "stdout",
          "text": [
            "CPU times: user 4 µs, sys: 1e+03 ns, total: 5 µs\n",
            "Wall time: 7.63 µs\n"
          ]
        },
        {
          "output_type": "execute_result",
          "data": {
            "text/plain": [
              "'mislav'"
            ],
            "application/vnd.google.colaboratory.intrinsic+json": {
              "type": "string"
            }
          },
          "metadata": {},
          "execution_count": 40
        }
      ]
    },
    {
      "cell_type": "code",
      "source": [
        ""
      ],
      "metadata": {
        "id": "z8LJKXZudu5k"
      },
      "execution_count": null,
      "outputs": []
    }
  ]
}