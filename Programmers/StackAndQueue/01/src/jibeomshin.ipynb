{
  "nbformat": 4,
  "nbformat_minor": 0,
  "metadata": {
    "colab": {
      "name": "Untitled6.ipynb",
      "provenance": []
    },
    "kernelspec": {
      "name": "python3",
      "display_name": "Python 3"
    },
    "language_info": {
      "name": "python"
    }
  },
  "cells": [
    {
      "cell_type": "code",
      "execution_count": 1,
      "metadata": {
        "id": "012vL5w7IEHD"
      },
      "outputs": [],
      "source": [
        "def solution(progresses, speeds):\n",
        "    answer = []\n",
        "# 프로그래시스가 비어질때까지 다음을 반복한다\n",
        "# 프로그래시스 길이만큼 돌아서 각 기능의 진행상황을 더해준다\n",
        "    while progresses:\n",
        "        for i in range(len(progresses)):\n",
        "            progresses[i] += speeds[i]\n",
        "#완성된 기능들을 배포한다            \n",
        "        cnt=0\n",
        "        while progresses and progresses[0] >=100:\n",
        "            progresses.pop(0)\n",
        "            speeds.pop(0)\n",
        "            cnt += 1\n",
        "#그 날 배포된 갯수가 0보다 크면 answer에 넣는다         \n",
        "        if cnt > 0:\n",
        "            answer.append(cnt)\n",
        "#특정 날짜에 배포된 갯수들이 저장되어있는 answer를 반환한다\n",
        "    return answer"
      ]
    },
    {
      "cell_type": "code",
      "source": [
        ""
      ],
      "metadata": {
        "id": "0SZjn9sNIE8w"
      },
      "execution_count": null,
      "outputs": []
    }
  ]
}