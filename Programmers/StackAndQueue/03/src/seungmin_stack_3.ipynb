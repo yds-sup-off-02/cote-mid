{
  "nbformat": 4,
  "nbformat_minor": 0,
  "metadata": {
    "colab": {
      "name": "seungmin_stack_3.ipynb",
      "provenance": [],
      "collapsed_sections": []
    },
    "kernelspec": {
      "name": "python3",
      "display_name": "Python 3"
    },
    "language_info": {
      "name": "python"
    }
  },
  "cells": [
    {
      "cell_type": "markdown",
      "source": [
        "트럭 여러 대가 강을 가로지르는 일차선 다리를 정해진 순으로 건너려 합니다. 모든 트럭이 다리를 건너려면 최소 몇 초가 걸리는지 알아내야 합니다. 다리에는 트럭이 최대 bridge_length대 올라갈 수 있으며, 다리는 weight 이하까지의 무게를 견딜 수 있습니다. 단, 다리에 완전히 오르지 않은 트럭의 무게는 무시합니다.\n",
        "\n",
        "예를 들어, 트럭 2대가 올라갈 수 있고 무게를 10kg까지 견디는 다리가 있습니다. 무게가 [7, 4, 5, 6]kg인 트럭이 순서대로 최단 시간 안에 다리를 건너려면 다음과 같이 건너야 합니다."
      ],
      "metadata": {
        "id": "IRWWjY00q6bq"
      }
    },
    {
      "cell_type": "code",
      "execution_count": 1,
      "metadata": {
        "id": "7mi5pNWtqvCv"
      },
      "outputs": [],
      "source": [
        "def solution(bridge_length, weight, truck_weights):\n",
        "    bridge = []\n",
        "    answer = 0\n",
        "    while 1: \n",
        "        answer += 1 # 경과시간\n",
        "        if (len(bridge) == bridge_length): # 현재 bridge 건너는 트럭 수가 꽉 차면\n",
        "            if bridge[-1] == '': \n",
        "                bridge.pop(-1) \n",
        "            else:\n",
        "                weight += bridge[-1] # 다리를 지난 트럭 무게 다시 +\n",
        "                bridge.pop(-1) # 다리를 지난 트럭 pop\n",
        "        else:\n",
        "            pass\n",
        "    # 4. weight가 제일 앞에 있는 트럭의 무게보다 더 크고 현재 다리 위에 있는 트럭의 개수가 bridge length보다 작을 경우\n",
        "        if truck_weights == []:\n",
        "            bridge.insert(0, '') # 6. bridge 리스트에 있는 값을 한칸 옮기기 위한 공백 추가 \n",
        "        elif (weight >= truck_weights[0]) and (len(bridge) - bridge.count('') < bridge_length): \n",
        "            bridge.insert(0, truck_weights[0]) # 1. 제일 앞에 있는 트럭을 bridge 리스트로 옮김 \n",
        "            weight -= truck_weights[0] # 2. weight - 다리 건너는 트럭 무게  \n",
        "            truck_weights.pop(0) # 3. 출발하지 않은 트럭 리스트 중 제일 앞 트럭 pop \n",
        "        else:\n",
        "            bridge.insert(0, '') # 6. bridge 리스트에 있는 값을 한칸 옮기기 위한 공백 추가 \n",
        "        #print(f'answer:{answer} / wegiht:{weight} / bridge:{bridge} / truck_weights:{truck_weights}')\n",
        "        if bridge.count('') == bridge_length:\n",
        "            return answer    "
      ]
    },
    {
      "cell_type": "code",
      "source": [
        "solution(2, 10, [7,4,5,6])"
      ],
      "metadata": {
        "colab": {
          "base_uri": "https://localhost:8080/"
        },
        "id": "ZMi3Y6S7rAQo",
        "outputId": "cfdc33fb-113d-4659-e8c7-3b520024c04d"
      },
      "execution_count": 2,
      "outputs": [
        {
          "output_type": "stream",
          "name": "stdout",
          "text": [
            "answer:1 / wegiht:3 / bridge:[7] / truck_weights:[4, 5, 6]\n",
            "answer:2 / wegiht:3 / bridge:['', 7] / truck_weights:[4, 5, 6]\n",
            "answer:3 / wegiht:6 / bridge:[4, ''] / truck_weights:[5, 6]\n",
            "answer:4 / wegiht:1 / bridge:[5, 4] / truck_weights:[6]\n",
            "answer:5 / wegiht:5 / bridge:['', 5] / truck_weights:[6]\n",
            "answer:6 / wegiht:4 / bridge:[6, ''] / truck_weights:[]\n",
            "answer:7 / wegiht:4 / bridge:['', 6] / truck_weights:[]\n",
            "answer:8 / wegiht:10 / bridge:['', ''] / truck_weights:[]\n"
          ]
        },
        {
          "output_type": "execute_result",
          "data": {
            "text/plain": [
              "8"
            ]
          },
          "metadata": {},
          "execution_count": 2
        }
      ]
    },
    {
      "cell_type": "code",
      "source": [
        ""
      ],
      "metadata": {
        "id": "IH9PD-EHrJP4"
      },
      "execution_count": null,
      "outputs": []
    }
  ]
}