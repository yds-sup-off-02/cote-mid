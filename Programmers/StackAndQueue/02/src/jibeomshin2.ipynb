{
  "nbformat": 4,
  "nbformat_minor": 0,
  "metadata": {
    "colab": {
      "name": "Untitled6.ipynb",
      "provenance": []
    },
    "kernelspec": {
      "name": "python3",
      "display_name": "Python 3"
    },
    "language_info": {
      "name": "python"
    }
  },
  "cells": [
    {
      "cell_type": "code",
      "execution_count": 2,
      "metadata": {
        "id": "012vL5w7IEHD"
      },
      "outputs": [],
      "source": [
        "def solution(priorities, location):\n",
        "    answer = 0\n",
        "    while True:\n",
        "# 리스트에서 가장 큰 수를 구한다        \n",
        "        max_num = max(priorities)\n",
        "# 리스트를 처음부터 확인한다   \n",
        "        for i in range(len(priorities)):\n",
        "# 만약 제일 큰 수와 리스트의 특이점와 일치한다면        \n",
        "            if max_num==priorities[i]:\n",
        "# 프린트한걸로하고 answer에 1을 추가       \n",
        "                answer += 1\n",
        "# 프린트한 특이점은 0   \n",
        "                priorities[i] = 0\n",
        "# 그리고 가장 큰 수를 다시 구해본다\n",
        "                max_num = max(priorities)\n",
        "# 만약 로케이션과 i가 일치하면 answer를 반환한다    \n",
        "                if i == location:\n",
        "                    return answer"
      ]
    },
    {
      "cell_type": "code",
      "source": [
        ""
      ],
      "metadata": {
        "id": "0SZjn9sNIE8w"
      },
      "execution_count": null,
      "outputs": []
    }
  ]
}