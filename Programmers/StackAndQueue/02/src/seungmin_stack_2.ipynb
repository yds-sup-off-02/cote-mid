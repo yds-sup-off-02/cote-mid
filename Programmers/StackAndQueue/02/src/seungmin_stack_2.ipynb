{
  "nbformat": 4,
  "nbformat_minor": 0,
  "metadata": {
    "colab": {
      "name": "seungmin_stack_2.ipynb",
      "provenance": [],
      "collapsed_sections": []
    },
    "kernelspec": {
      "name": "python3",
      "display_name": "Python 3"
    },
    "language_info": {
      "name": "python"
    }
  },
  "cells": [
    {
      "cell_type": "code",
      "execution_count": null,
      "metadata": {
        "id": "9FTvmQ2pJ5mk"
      },
      "outputs": [],
      "source": [
        "#프린터\n",
        "#중요도 높은 문서 먼저 인쇄\n",
        "#1. 인쇄 대기목록의 가장 앞에 있는 문서(J)를 대기목록에서 꺼냅니다.\n",
        "#2. 나머지 인쇄 대기목록에서 J보다 중요도가 높은 문서가 한 개라도 존재하면 J를 대기목록의 가장 마지막에 넣습니다.\n",
        "#3. 그렇지 않으면 J를 인쇄합니다.\n",
        "#내가 인쇄를 요청한 문서가 몇 번째로 인쇄되는지 return 하도록 solution 함수를 작성해주세요.\n",
        "\n",
        "#입출력 예 [2, 1, 3, 2]\t2\t1\n",
        "#          [1, 1, 9, 1, 1, 1]\t0\t5\n",
        "\n",
        "def solution(priorities, location):\n",
        "    loc_list = list(range(len(priorities))) # 몇 번째로 인쇄되었는지 값 찾기 위한 입력받은 리스트의 인덱스 리스트 생성\n",
        "    temp_list = []\n",
        "\n",
        "    while 1:\n",
        "        if priorities == []:\n",
        "            break\n",
        "        else:\n",
        "            if priorities[0] < max(priorities):   # 첫번째 대기목록에 있는 값보다 리스트 내에 큰 값이 존재할 경우\n",
        "                priorities.append(priorities[0])  # 리스트 맨 뒤쪽으로 값 추가\n",
        "                priorities.pop(0)                 # 첫번째 값 pop\n",
        "                loc_list.append(loc_list[0])      # 인덱스 리스트도 똑같이 처리\n",
        "                loc_list.pop(0)\n",
        "            else:                                 # 첫번째 대기목록에 있는 값이 제일 크거나 비교할 값이 없을 경우\n",
        "                temp_list.append(loc_list[0])     # temp_list에 인덱스 리스트의 첫번째 값 추가\n",
        "                priorities.pop(0)                 # 첫번째 값 pop\n",
        "                loc_list.pop(0)                   # 인덱스 리스트도 똑같이 처리\n",
        "    answer = temp_list.index(location)+1          # location 값을 temp_list에서 찾아서 +1   \n",
        "    return answer"
      ]
    }
  ]
}