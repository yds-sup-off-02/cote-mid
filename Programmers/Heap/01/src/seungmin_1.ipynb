{
  "nbformat": 4,
  "nbformat_minor": 0,
  "metadata": {
    "colab": {
      "name": "seungmin_1.ipynb",
      "provenance": [],
      "collapsed_sections": []
    },
    "kernelspec": {
      "name": "python3",
      "display_name": "Python 3"
    },
    "language_info": {
      "name": "python"
    }
  },
  "cells": [
    {
      "cell_type": "code",
      "execution_count": 2,
      "metadata": {
        "colab": {
          "base_uri": "https://localhost:8080/"
        },
        "id": "mNal9a_y_d7U",
        "outputId": "15529c8c-673d-4474-b41a-fe22a4c08a26"
      },
      "outputs": [
        {
          "output_type": "execute_result",
          "data": {
            "text/plain": [
              "7"
            ]
          },
          "metadata": {},
          "execution_count": 2
        }
      ],
      "source": [
        "scoville = [1,2,3,3,3,3,5,1,4,7,8,9,10,12]\n",
        "#b = [3,1,4,2,5,5,5,3,1]\n",
        "K = 7\n",
        "answer = 0\n",
        "len(scoville)//2\n",
        "#n = 1 > [3,3,3,3,5,9,10,12]\n",
        "#n = 2 > [3,3,5,9,10,12,12]\n",
        "#n = 3 > [5,9,10,12,12,12]\n",
        "#n = 4 > [10,12,12,12,86]"
      ]
    },
    {
      "cell_type": "code",
      "source": [
        "scoville.sort()\n",
        "b = []\n",
        "while len(scoville) != 1:\n",
        "\n",
        "    if scoville[len(scoville)//2] >= K:\n",
        "        scoville = scoville[:len(scoville)//2]\n",
        "        break\n",
        "\n",
        "    elif scoville[len(scoville)//2] < K:\n",
        "\n",
        "        if b == []:\n",
        "            b = scoville[:len(scoville)//2]\n",
        "        else:\n",
        "            b.extend(scoville[:len(scoville)//2])\n",
        "\n",
        "        scoville = scoville[len(scoville)//2:]\n",
        "\n",
        "    else:\n",
        "        scoville = scoville[:len(scoville)//2]\n",
        "        break\n",
        "        \n",
        "b.extend(scoville)"
      ],
      "metadata": {
        "id": "qV-2m2FM_hro"
      },
      "execution_count": 3,
      "outputs": []
    },
    {
      "cell_type": "code",
      "source": [
        "b"
      ],
      "metadata": {
        "colab": {
          "base_uri": "https://localhost:8080/"
        },
        "id": "TWS4LVq5_pkT",
        "outputId": "15439911-88ba-4198-aa5b-52904f946a86"
      },
      "execution_count": 4,
      "outputs": [
        {
          "output_type": "execute_result",
          "data": {
            "text/plain": [
              "[1, 1, 2, 3, 3, 3, 3, 4, 5, 7]"
            ]
          },
          "metadata": {},
          "execution_count": 4
        }
      ]
    },
    {
      "cell_type": "code",
      "source": [
        ""
      ],
      "metadata": {
        "id": "gKAeQSHe_qaE"
      },
      "execution_count": null,
      "outputs": []
    }
  ]
}