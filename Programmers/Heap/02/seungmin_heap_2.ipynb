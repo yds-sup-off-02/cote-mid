{
  "nbformat": 4,
  "nbformat_minor": 0,
  "metadata": {
    "colab": {
      "name": "seungmin_heap_2.ipynb",
      "provenance": [],
      "collapsed_sections": []
    },
    "kernelspec": {
      "name": "python3",
      "display_name": "Python 3"
    },
    "language_info": {
      "name": "python"
    }
  },
  "cells": [
    {
      "cell_type": "code",
      "execution_count": 1,
      "metadata": {
        "id": "trTZzn8wDfWO"
      },
      "outputs": [],
      "source": [
        "jobs = [[0, 3], [1, 9], [2, 6]]"
      ]
    },
    {
      "cell_type": "code",
      "source": [
        "def solution(jobs):\n",
        "    import math\n",
        "    answer = 0\n",
        "    answer_l = len(jobs)\n",
        "    time = 0\n",
        "    jobs.sort(key=lambda x:(x[1], x[0]))\n",
        "    #print(f'jobs = {jobs}\\n')\n",
        "\n",
        "    while jobs != []:\n",
        "        for i in enumerate(jobs):\n",
        "            if i[1][0] > time:\n",
        "                if i[0] == len(jobs) - 1:\n",
        "                    time+=1\n",
        "                else:\n",
        "                    pass\n",
        "            else:\n",
        "                time+=i[1][1]\n",
        "                answer=answer+time-i[1][0]\n",
        "                jobs.pop(i[0])\n",
        "                break\n",
        "        #print(f'jobs:{jobs} / {i} / time:{time} / answer:{answer}')\n",
        "    answer = math.trunc(answer / answer_l)\n",
        "    return answer"
      ],
      "metadata": {
        "id": "yZfziDABDguL"
      },
      "execution_count": 2,
      "outputs": []
    },
    {
      "cell_type": "code",
      "source": [
        "solution(jobs)"
      ],
      "metadata": {
        "colab": {
          "base_uri": "https://localhost:8080/"
        },
        "id": "yPgYwajdDizy",
        "outputId": "23c47aa6-2a9d-4150-9243-63f1d6a98225"
      },
      "execution_count": 3,
      "outputs": [
        {
          "output_type": "stream",
          "name": "stdout",
          "text": [
            "jobs = [[0, 3], [2, 6], [1, 9]]\n",
            "\n",
            "jobs:[[2, 6], [1, 9]] / (0, [0, 3]) / time:3 / answer:3\n",
            "jobs:[[1, 9]] / (0, [2, 6]) / time:9 / answer:10\n",
            "jobs:[] / (0, [1, 9]) / time:18 / answer:27\n"
          ]
        },
        {
          "output_type": "execute_result",
          "data": {
            "text/plain": [
              "9"
            ]
          },
          "metadata": {},
          "execution_count": 3
        }
      ]
    },
    {
      "cell_type": "code",
      "source": [
        ""
      ],
      "metadata": {
        "id": "N_B2RlvnDjIS"
      },
      "execution_count": null,
      "outputs": []
    }
  ]
}