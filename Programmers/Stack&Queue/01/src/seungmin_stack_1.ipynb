{
  "nbformat": 4,
  "nbformat_minor": 0,
  "metadata": {
    "colab": {
      "name": "seungmin_stack_1.ipynb",
      "provenance": [],
      "collapsed_sections": []
    },
    "kernelspec": {
      "name": "python3",
      "display_name": "Python 3"
    },
    "language_info": {
      "name": "python"
    }
  },
  "cells": [
    {
      "cell_type": "code",
      "execution_count": null,
      "metadata": {
        "id": "9FTvmQ2pJ5mk"
      },
      "outputs": [],
      "source": [
        "# 기능개발\n",
        "# 각 기능은 진도가 100%일 때 반영, 먼저 개발된 뒤에 있는 기능은 앞에 있는 기능이 배포될 때 함께 배포\n",
        "# 입출력 예시 [93, 30, 55]\t[1, 30, 5]\t[2, 1]\n",
        "#             [95, 90, 99, 99, 80, 99]\t[1, 1, 1, 1, 1, 1]\t[1, 3, 2]\n",
        "\n",
        "import math\n",
        "\n",
        "def solution(progresses, speeds):\n",
        "    i = 1 #배포 개수를 count 하기 위한 처리\n",
        "    answer = []\n",
        "    temp_list = [math.ceil((100-progresses[i])/speeds[i]) for i in range(len(progresses))]\n",
        "    #각 요소별로 100까지 걸리는 시간 계산(올림)해서 temp_list 생성\n",
        "    while True:\n",
        "        if temp_list == []:\n",
        "            return answer\n",
        "        else:\n",
        "            deploy = temp_list[0]\n",
        "            #temp_list의 첫번째 값을 deploy 변수에 삽입\n",
        "            if (len(temp_list) == 1) or (deploy < temp_list[1]) :\n",
        "            #temp_list에서 더이상 비교할 값이 없거나 뒤에 있는 값보다 작을 경우 \n",
        "                temp_list.pop(0) #첫번째 값 pop\n",
        "                answer.append(i) #answer에 수행횟수 추가\n",
        "                i = 1 #배포 개수 초기화\n",
        "            else :\n",
        "            #deploy의 값이 그 뒤에 있는 값보다 클 경우\n",
        "                temp_list.pop(1) #뒤에 있는 값 pop\n",
        "                i += 1 #배포 개수 + 1"
      ]
    }
  ]
}